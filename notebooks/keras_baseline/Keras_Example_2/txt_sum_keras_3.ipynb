{
 "cells": [
  {
   "cell_type": "markdown",
   "metadata": {
    "colab_type": "text",
    "id": "qFuL-RBgXqgU"
   },
   "source": [
    "In this notebook, we will build an abstractive based text summarizer using deep learning from the scratch in python using keras\n",
    "\n",
    "I recommend you to go through the article over [here](https://www.analyticsvidhya.com/blog/2019/06/comprehensive-guide-text-summarization-using-deep-learning-python/) to cover all the concepts which is required to build our own summarizer"
   ]
  },
  {
   "cell_type": "markdown",
   "metadata": {
    "colab_type": "text",
    "id": "F5dSoP8lGMZi"
   },
   "source": [
    "#Understanding the Problem Statement\n",
    "\n",
    "Customer reviews can often be long and descriptive. Analyzing these reviews manually, as you can imagine, is really time-consuming. This is where the brilliance of Natural Language Processing can be applied to generate a summary for long reviews.\n",
    "\n",
    "We will be working on a really cool dataset. Our objective here is to generate a summary for the Amazon Fine Food reviews using the abstraction-based approach we learned about above. You can download the dataset from[ here ](https://www.kaggle.com/snap/amazon-fine-food-reviews)\n",
    "\n",
    "It’s time to fire up our Jupyter notebooks! Let’s dive into the implementation details right away.\n",
    "\n",
    "#Custom Attention Layer\n",
    "\n",
    "Keras does not officially support attention layer. So, we can either implement our own attention layer or use a third-party implementation. We will go with the latter option for this article. You can download the attention layer from [here](https://github.com/thushv89/attention_keras/blob/master/layers/attention.py) and copy it in a different file called attention.py.\n",
    "\n",
    "Let’s import it into our environment:"
   ]
  },
  {
   "cell_type": "code",
   "execution_count": 1,
   "metadata": {
    "colab": {},
    "colab_type": "code",
    "id": "Fi64aA0FFxcS"
   },
   "outputs": [
    {
     "name": "stderr",
     "output_type": "stream",
     "text": [
      "C:\\Users\\Shantanu\\Anaconda3\\envs\\TXTSUMG\\lib\\site-packages\\tensorflow\\python\\framework\\dtypes.py:516: FutureWarning: Passing (type, 1) or '1type' as a synonym of type is deprecated; in a future version of numpy, it will be understood as (type, (1,)) / '(1,)type'.\n",
      "  _np_qint8 = np.dtype([(\"qint8\", np.int8, 1)])\n",
      "C:\\Users\\Shantanu\\Anaconda3\\envs\\TXTSUMG\\lib\\site-packages\\tensorflow\\python\\framework\\dtypes.py:517: FutureWarning: Passing (type, 1) or '1type' as a synonym of type is deprecated; in a future version of numpy, it will be understood as (type, (1,)) / '(1,)type'.\n",
      "  _np_quint8 = np.dtype([(\"quint8\", np.uint8, 1)])\n",
      "C:\\Users\\Shantanu\\Anaconda3\\envs\\TXTSUMG\\lib\\site-packages\\tensorflow\\python\\framework\\dtypes.py:518: FutureWarning: Passing (type, 1) or '1type' as a synonym of type is deprecated; in a future version of numpy, it will be understood as (type, (1,)) / '(1,)type'.\n",
      "  _np_qint16 = np.dtype([(\"qint16\", np.int16, 1)])\n",
      "C:\\Users\\Shantanu\\Anaconda3\\envs\\TXTSUMG\\lib\\site-packages\\tensorflow\\python\\framework\\dtypes.py:519: FutureWarning: Passing (type, 1) or '1type' as a synonym of type is deprecated; in a future version of numpy, it will be understood as (type, (1,)) / '(1,)type'.\n",
      "  _np_quint16 = np.dtype([(\"quint16\", np.uint16, 1)])\n",
      "C:\\Users\\Shantanu\\Anaconda3\\envs\\TXTSUMG\\lib\\site-packages\\tensorflow\\python\\framework\\dtypes.py:520: FutureWarning: Passing (type, 1) or '1type' as a synonym of type is deprecated; in a future version of numpy, it will be understood as (type, (1,)) / '(1,)type'.\n",
      "  _np_qint32 = np.dtype([(\"qint32\", np.int32, 1)])\n",
      "C:\\Users\\Shantanu\\Anaconda3\\envs\\TXTSUMG\\lib\\site-packages\\tensorflow\\python\\framework\\dtypes.py:525: FutureWarning: Passing (type, 1) or '1type' as a synonym of type is deprecated; in a future version of numpy, it will be understood as (type, (1,)) / '(1,)type'.\n",
      "  np_resource = np.dtype([(\"resource\", np.ubyte, 1)])\n",
      "C:\\Users\\Shantanu\\Anaconda3\\envs\\TXTSUMG\\lib\\site-packages\\h5py\\__init__.py:36: FutureWarning: Conversion of the second argument of issubdtype from `float` to `np.floating` is deprecated. In future, it will be treated as `np.float64 == np.dtype(float).type`.\n",
      "  from ._conv import register_converters as _register_converters\n",
      "C:\\Users\\Shantanu\\Anaconda3\\envs\\TXTSUMG\\lib\\site-packages\\tensorboard\\compat\\tensorflow_stub\\dtypes.py:541: FutureWarning: Passing (type, 1) or '1type' as a synonym of type is deprecated; in a future version of numpy, it will be understood as (type, (1,)) / '(1,)type'.\n",
      "  _np_qint8 = np.dtype([(\"qint8\", np.int8, 1)])\n",
      "C:\\Users\\Shantanu\\Anaconda3\\envs\\TXTSUMG\\lib\\site-packages\\tensorboard\\compat\\tensorflow_stub\\dtypes.py:542: FutureWarning: Passing (type, 1) or '1type' as a synonym of type is deprecated; in a future version of numpy, it will be understood as (type, (1,)) / '(1,)type'.\n",
      "  _np_quint8 = np.dtype([(\"quint8\", np.uint8, 1)])\n",
      "C:\\Users\\Shantanu\\Anaconda3\\envs\\TXTSUMG\\lib\\site-packages\\tensorboard\\compat\\tensorflow_stub\\dtypes.py:543: FutureWarning: Passing (type, 1) or '1type' as a synonym of type is deprecated; in a future version of numpy, it will be understood as (type, (1,)) / '(1,)type'.\n",
      "  _np_qint16 = np.dtype([(\"qint16\", np.int16, 1)])\n",
      "C:\\Users\\Shantanu\\Anaconda3\\envs\\TXTSUMG\\lib\\site-packages\\tensorboard\\compat\\tensorflow_stub\\dtypes.py:544: FutureWarning: Passing (type, 1) or '1type' as a synonym of type is deprecated; in a future version of numpy, it will be understood as (type, (1,)) / '(1,)type'.\n",
      "  _np_quint16 = np.dtype([(\"quint16\", np.uint16, 1)])\n",
      "C:\\Users\\Shantanu\\Anaconda3\\envs\\TXTSUMG\\lib\\site-packages\\tensorboard\\compat\\tensorflow_stub\\dtypes.py:545: FutureWarning: Passing (type, 1) or '1type' as a synonym of type is deprecated; in a future version of numpy, it will be understood as (type, (1,)) / '(1,)type'.\n",
      "  _np_qint32 = np.dtype([(\"qint32\", np.int32, 1)])\n",
      "C:\\Users\\Shantanu\\Anaconda3\\envs\\TXTSUMG\\lib\\site-packages\\tensorboard\\compat\\tensorflow_stub\\dtypes.py:550: FutureWarning: Passing (type, 1) or '1type' as a synonym of type is deprecated; in a future version of numpy, it will be understood as (type, (1,)) / '(1,)type'.\n",
      "  np_resource = np.dtype([(\"resource\", np.ubyte, 1)])\n"
     ]
    }
   ],
   "source": [
    "from Attention import AttentionLayer"
   ]
  },
  {
   "cell_type": "markdown",
   "metadata": {
    "colab_type": "text",
    "id": "JUValOzcHtEK"
   },
   "source": [
    "#Import the Libraries"
   ]
  },
  {
   "cell_type": "code",
   "execution_count": 2,
   "metadata": {
    "_cell_guid": "b1076dfc-b9ad-4769-8c92-a6c4dae69d19",
    "_uuid": "8f2839f25d086af736a60e9eeb907d3b93b6e0e5",
    "colab": {},
    "colab_type": "code",
    "id": "_Jpu8qLEFxcY",
    "outputId": "95968e01-faac-4911-c802-9c008a4e62cf"
   },
   "outputs": [
    {
     "name": "stderr",
     "output_type": "stream",
     "text": [
      "Using TensorFlow backend.\n"
     ]
    }
   ],
   "source": [
    "import numpy as np\n",
    "import pandas as pd \n",
    "import re\n",
    "from bs4 import BeautifulSoup\n",
    "from keras.preprocessing.text import Tokenizer \n",
    "from keras.preprocessing.sequence import pad_sequences\n",
    "from nltk.corpus import stopwords\n",
    "from tensorflow.keras.layers import Input, LSTM, Embedding, Dense, Concatenate, TimeDistributed, Bidirectional\n",
    "from tensorflow.keras.models import Model\n",
    "from tensorflow.keras.callbacks import EarlyStopping\n",
    "import warnings\n",
    "pd.set_option(\"display.max_colwidth\", 200)\n",
    "warnings.filterwarnings(\"ignore\")"
   ]
  },
  {
   "cell_type": "markdown",
   "metadata": {
    "colab_type": "text",
    "id": "UVakjZ3oICgx"
   },
   "source": [
    "#Read the dataset\n",
    "\n",
    "This dataset consists of reviews of fine foods from Amazon. The data spans a period of more than 10 years, including all ~500,000 reviews up to October 2012. These reviews include product and user information, ratings, plain text review, and summary. It also includes reviews from all other Amazon categories.\n",
    "\n",
    "We’ll take a sample of 100,000 reviews to reduce the training time of our model. Feel free to use the entire dataset for training your model if your machine has that kind of computational power."
   ]
  },
  {
   "cell_type": "code",
   "execution_count": 3,
   "metadata": {
    "colab": {},
    "colab_type": "code",
    "id": "wnK5o4Z1Fxcj"
   },
   "outputs": [],
   "source": [
    "data=pd.read_csv(\"Reviews.csv\",nrows=100000)"
   ]
  },
  {
   "cell_type": "markdown",
   "metadata": {
    "colab_type": "text",
    "id": "kGNQKvCaISIn"
   },
   "source": [
    "# Drop Duplicates and NA values"
   ]
  },
  {
   "cell_type": "code",
   "execution_count": 4,
   "metadata": {
    "colab": {},
    "colab_type": "code",
    "id": "Cjul88oOFxcr"
   },
   "outputs": [],
   "source": [
    "data.drop_duplicates(subset=['Text'],inplace=True)#dropping duplicates\n",
    "data.dropna(axis=0,inplace=True)#dropping na"
   ]
  },
  {
   "cell_type": "markdown",
   "metadata": {
    "colab_type": "text",
    "id": "qi0xD6BkIWAm"
   },
   "source": [
    "# Information about dataset\n",
    "\n",
    "Let us look at datatypes and shape of the dataset"
   ]
  },
  {
   "cell_type": "code",
   "execution_count": 5,
   "metadata": {
    "colab": {},
    "colab_type": "code",
    "id": "__fy-JxTFxc9",
    "outputId": "d42c6e36-bbc8-43c2-de0e-d3effe3e8c4c"
   },
   "outputs": [
    {
     "name": "stdout",
     "output_type": "stream",
     "text": [
      "<class 'pandas.core.frame.DataFrame'>\n",
      "Int64Index: 88421 entries, 0 to 99999\n",
      "Data columns (total 10 columns):\n",
      " #   Column                  Non-Null Count  Dtype \n",
      "---  ------                  --------------  ----- \n",
      " 0   Id                      88421 non-null  int64 \n",
      " 1   ProductId               88421 non-null  object\n",
      " 2   UserId                  88421 non-null  object\n",
      " 3   ProfileName             88421 non-null  object\n",
      " 4   HelpfulnessNumerator    88421 non-null  int64 \n",
      " 5   HelpfulnessDenominator  88421 non-null  int64 \n",
      " 6   Score                   88421 non-null  int64 \n",
      " 7   Time                    88421 non-null  int64 \n",
      " 8   Summary                 88421 non-null  object\n",
      " 9   Text                    88421 non-null  object\n",
      "dtypes: int64(5), object(5)\n",
      "memory usage: 7.4+ MB\n"
     ]
    }
   ],
   "source": [
    "data.info()"
   ]
  },
  {
   "cell_type": "markdown",
   "metadata": {
    "colab_type": "text",
    "id": "r0xLYACiFxdJ"
   },
   "source": [
    "#Preprocessing\n",
    "\n",
    "Performing basic preprocessing steps is very important before we get to the model building part. Using messy and uncleaned text data is a potentially disastrous move. So in this step, we will drop all the unwanted symbols, characters, etc. from the text that do not affect the objective of our problem.\n",
    "\n",
    "Here is the dictionary that we will use for expanding the contractions:"
   ]
  },
  {
   "cell_type": "code",
   "execution_count": 6,
   "metadata": {
    "colab": {},
    "colab_type": "code",
    "id": "0s6IY-x2FxdL"
   },
   "outputs": [],
   "source": [
    "contraction_mapping = {\"ain't\": \"is not\", \"aren't\": \"are not\",\"can't\": \"cannot\", \"'cause\": \"because\", \"could've\": \"could have\", \"couldn't\": \"could not\",\n",
    "                           \"didn't\": \"did not\",  \"doesn't\": \"does not\", \"don't\": \"do not\", \"hadn't\": \"had not\", \"hasn't\": \"has not\", \"haven't\": \"have not\",\n",
    "                           \"he'd\": \"he would\",\"he'll\": \"he will\", \"he's\": \"he is\", \"how'd\": \"how did\", \"how'd'y\": \"how do you\", \"how'll\": \"how will\", \"how's\": \"how is\",\n",
    "                           \"I'd\": \"I would\", \"I'd've\": \"I would have\", \"I'll\": \"I will\", \"I'll've\": \"I will have\",\"I'm\": \"I am\", \"I've\": \"I have\", \"i'd\": \"i would\",\n",
    "                           \"i'd've\": \"i would have\", \"i'll\": \"i will\",  \"i'll've\": \"i will have\",\"i'm\": \"i am\", \"i've\": \"i have\", \"isn't\": \"is not\", \"it'd\": \"it would\",\n",
    "                           \"it'd've\": \"it would have\", \"it'll\": \"it will\", \"it'll've\": \"it will have\",\"it's\": \"it is\", \"let's\": \"let us\", \"ma'am\": \"madam\",\n",
    "                           \"mayn't\": \"may not\", \"might've\": \"might have\",\"mightn't\": \"might not\",\"mightn't've\": \"might not have\", \"must've\": \"must have\",\n",
    "                           \"mustn't\": \"must not\", \"mustn't've\": \"must not have\", \"needn't\": \"need not\", \"needn't've\": \"need not have\",\"o'clock\": \"of the clock\",\n",
    "                           \"oughtn't\": \"ought not\", \"oughtn't've\": \"ought not have\", \"shan't\": \"shall not\", \"sha'n't\": \"shall not\", \"shan't've\": \"shall not have\",\n",
    "                           \"she'd\": \"she would\", \"she'd've\": \"she would have\", \"she'll\": \"she will\", \"she'll've\": \"she will have\", \"she's\": \"she is\",\n",
    "                           \"should've\": \"should have\", \"shouldn't\": \"should not\", \"shouldn't've\": \"should not have\", \"so've\": \"so have\",\"so's\": \"so as\",\n",
    "                           \"this's\": \"this is\",\"that'd\": \"that would\", \"that'd've\": \"that would have\", \"that's\": \"that is\", \"there'd\": \"there would\",\n",
    "                           \"there'd've\": \"there would have\", \"there's\": \"there is\", \"here's\": \"here is\",\"they'd\": \"they would\", \"they'd've\": \"they would have\",\n",
    "                           \"they'll\": \"they will\", \"they'll've\": \"they will have\", \"they're\": \"they are\", \"they've\": \"they have\", \"to've\": \"to have\",\n",
    "                           \"wasn't\": \"was not\", \"we'd\": \"we would\", \"we'd've\": \"we would have\", \"we'll\": \"we will\", \"we'll've\": \"we will have\", \"we're\": \"we are\",\n",
    "                           \"we've\": \"we have\", \"weren't\": \"were not\", \"what'll\": \"what will\", \"what'll've\": \"what will have\", \"what're\": \"what are\",\n",
    "                           \"what's\": \"what is\", \"what've\": \"what have\", \"when's\": \"when is\", \"when've\": \"when have\", \"where'd\": \"where did\", \"where's\": \"where is\",\n",
    "                           \"where've\": \"where have\", \"who'll\": \"who will\", \"who'll've\": \"who will have\", \"who's\": \"who is\", \"who've\": \"who have\",\n",
    "                           \"why's\": \"why is\", \"why've\": \"why have\", \"will've\": \"will have\", \"won't\": \"will not\", \"won't've\": \"will not have\",\n",
    "                           \"would've\": \"would have\", \"wouldn't\": \"would not\", \"wouldn't've\": \"would not have\", \"y'all\": \"you all\",\n",
    "                           \"y'all'd\": \"you all would\",\"y'all'd've\": \"you all would have\",\"y'all're\": \"you all are\",\"y'all've\": \"you all have\",\n",
    "                           \"you'd\": \"you would\", \"you'd've\": \"you would have\", \"you'll\": \"you will\", \"you'll've\": \"you will have\",\n",
    "                           \"you're\": \"you are\", \"you've\": \"you have\"}"
   ]
  },
  {
   "cell_type": "markdown",
   "metadata": {
    "colab_type": "text",
    "id": "2JFRXFHmI7Mj"
   },
   "source": [
    "We will perform the below preprocessing tasks for our data:\n",
    "\n",
    "1.Convert everything to lowercase\n",
    "\n",
    "2.Remove HTML tags\n",
    "\n",
    "3.Contraction mapping\n",
    "\n",
    "4.Remove (‘s)\n",
    "\n",
    "5.Remove any text inside the parenthesis ( )\n",
    "\n",
    "6.Eliminate punctuations and special characters\n",
    "\n",
    "7.Remove stopwords\n",
    "\n",
    "8.Remove short words\n",
    "\n",
    "Let’s define the function:"
   ]
  },
  {
   "cell_type": "code",
   "execution_count": 7,
   "metadata": {
    "colab": {},
    "colab_type": "code",
    "id": "XZr-u3OEFxdT"
   },
   "outputs": [],
   "source": [
    "stop_words = set(stopwords.words('english')) \n",
    "\n",
    "def text_cleaner(text,num):\n",
    "    newString = text.lower()\n",
    "    newString = BeautifulSoup(newString, \"lxml\").text\n",
    "    newString = re.sub(r'\\([^)]*\\)', '', newString)\n",
    "    newString = re.sub('\"','', newString)\n",
    "    newString = ' '.join([contraction_mapping[t] if t in contraction_mapping else t for t in newString.split(\" \")])    \n",
    "    newString = re.sub(r\"'s\\b\",\"\",newString)\n",
    "    newString = re.sub(\"[^a-zA-Z]\", \" \", newString) \n",
    "    newString = re.sub('[m]{2,}', 'mm', newString)\n",
    "    if(num==0):\n",
    "        tokens = [w for w in newString.split() if not w in stop_words]\n",
    "    else:\n",
    "        tokens=newString.split()\n",
    "    long_words=[]\n",
    "    for i in tokens:\n",
    "        if len(i)>1:                                                 #removing short word\n",
    "            long_words.append(i)   \n",
    "    return (\" \".join(long_words)).strip()"
   ]
  },
  {
   "cell_type": "code",
   "execution_count": 8,
   "metadata": {
    "colab": {},
    "colab_type": "code",
    "id": "A2QAeCHWFxdY"
   },
   "outputs": [],
   "source": [
    "#call the function\n",
    "cleaned_text = []\n",
    "for t in data['Text']:\n",
    "    cleaned_text.append(text_cleaner(t,0)) "
   ]
  },
  {
   "cell_type": "markdown",
   "metadata": {
    "colab_type": "text",
    "id": "snRZY8wjLao2"
   },
   "source": [
    "Let us look at the first five preprocessed reviews"
   ]
  },
  {
   "cell_type": "code",
   "execution_count": 9,
   "metadata": {
    "colab": {},
    "colab_type": "code",
    "id": "NCAIkhWbFxdh",
    "outputId": "c2da1a36-4488-4e32-ef9e-fcfe496e374d"
   },
   "outputs": [
    {
     "data": {
      "text/plain": [
       "['bought several vitality canned dog food products found good quality product looks like stew processed meat smells better labrador finicky appreciates product better',\n",
       " 'product arrived labeled jumbo salted peanuts peanuts actually small sized unsalted sure error vendor intended represent product jumbo',\n",
       " 'confection around centuries light pillowy citrus gelatin nuts case filberts cut tiny squares liberally coated powdered sugar tiny mouthful heaven chewy flavorful highly recommend yummy treat familiar story lewis lion witch wardrobe treat seduces edmund selling brother sisters witch',\n",
       " 'looking secret ingredient robitussin believe found got addition root beer extract ordered made cherry soda flavor medicinal',\n",
       " 'great taffy great price wide assortment yummy taffy delivery quick taffy lover deal']"
      ]
     },
     "execution_count": 9,
     "metadata": {},
     "output_type": "execute_result"
    }
   ],
   "source": [
    "cleaned_text[:5]  "
   ]
  },
  {
   "cell_type": "code",
   "execution_count": 10,
   "metadata": {
    "colab": {},
    "colab_type": "code",
    "id": "GsRXocxoFxd-"
   },
   "outputs": [],
   "source": [
    "#call the function\n",
    "cleaned_summary = []\n",
    "for t in data['Summary']:\n",
    "    cleaned_summary.append(text_cleaner(t,1))"
   ]
  },
  {
   "cell_type": "markdown",
   "metadata": {
    "colab_type": "text",
    "id": "oZeD0gs6Lnb-"
   },
   "source": [
    "Let us look at the first 10 preprocessed summaries"
   ]
  },
  {
   "cell_type": "code",
   "execution_count": 11,
   "metadata": {
    "colab": {},
    "colab_type": "code",
    "id": "jQJdZcAzFxee",
    "outputId": "a1fbe683-c03f-4afb-addf-e075021c121b"
   },
   "outputs": [
    {
     "data": {
      "text/plain": [
       "['good quality dog food',\n",
       " 'not as advertised',\n",
       " 'delight says it all',\n",
       " 'cough medicine',\n",
       " 'great taffy',\n",
       " 'nice taffy',\n",
       " 'great just as good as the expensive brands',\n",
       " 'wonderful tasty taffy',\n",
       " 'yay barley',\n",
       " 'healthy dog food']"
      ]
     },
     "execution_count": 11,
     "metadata": {},
     "output_type": "execute_result"
    }
   ],
   "source": [
    "cleaned_summary[:10]"
   ]
  },
  {
   "cell_type": "code",
   "execution_count": 12,
   "metadata": {
    "colab": {},
    "colab_type": "code",
    "id": "L1zLpnqsFxey"
   },
   "outputs": [],
   "source": [
    "data['cleaned_text']=cleaned_text\n",
    "data['cleaned_summary']=cleaned_summary"
   ]
  },
  {
   "cell_type": "markdown",
   "metadata": {
    "colab_type": "text",
    "id": "KT_D2cLiLy77"
   },
   "source": [
    "#Drop empty rows"
   ]
  },
  {
   "cell_type": "code",
   "execution_count": 13,
   "metadata": {
    "colab": {},
    "colab_type": "code",
    "id": "sYK390unFxfA"
   },
   "outputs": [],
   "source": [
    "data.replace('', np.nan, inplace=True)\n",
    "data.dropna(axis=0,inplace=True)"
   ]
  },
  {
   "cell_type": "markdown",
   "metadata": {
    "colab_type": "text",
    "id": "Vm8Fk2TCL7Sp"
   },
   "source": [
    "#Understanding the distribution of the sequences\n",
    "\n",
    "Here, we will analyze the length of the reviews and the summary to get an overall idea about the distribution of length of the text. This will help us fix the maximum length of the sequence:"
   ]
  },
  {
   "cell_type": "code",
   "execution_count": 14,
   "metadata": {
    "colab": {},
    "colab_type": "code",
    "id": "MdF76AHHFxgw",
    "outputId": "e3bbe165-4235-482f-bfd4-36a3f1d95290"
   },
   "outputs": [
    {
     "data": {
      "image/png": "[encoded data removed]",
      "text/plain": [
       "<Figure size 432x288 with 2 Axes>"
      ]
     },
     "metadata": {
      "needs_background": "light"
     },
     "output_type": "display_data"
    }
   ],
   "source": [
    "import matplotlib.pyplot as plt\n",
    "\n",
    "text_word_count = []\n",
    "summary_word_count = []\n",
    "\n",
    "# populate the lists with sentence lengths\n",
    "for i in data['cleaned_text']:\n",
    "      text_word_count.append(len(i.split()))\n",
    "\n",
    "for i in data['cleaned_summary']:\n",
    "      summary_word_count.append(len(i.split()))\n",
    "\n",
    "length_df = pd.DataFrame({'text':text_word_count, 'summary':summary_word_count})\n",
    "\n",
    "length_df.hist(bins = 30)\n",
    "plt.show()"
   ]
  },
  {
   "cell_type": "markdown",
   "metadata": {
    "colab_type": "text",
    "id": "QwdSGIhGMEbz"
   },
   "source": [
    "Interesting. We can fix the maximum length of the summary to 8 since that seems to be the majority summary length.\n",
    "\n",
    "Let us understand the proportion of the length of summaries below 8"
   ]
  },
  {
   "cell_type": "code",
   "execution_count": 15,
   "metadata": {
    "colab": {},
    "colab_type": "code",
    "id": "7JRjwdIOFxg3",
    "outputId": "f968be82-c539-471d-ce23-16f18b059ea0"
   },
   "outputs": [
    {
     "name": "stdout",
     "output_type": "stream",
     "text": [
      "0.9424907471335922\n"
     ]
    }
   ],
   "source": [
    "cnt=0\n",
    "for i in data['cleaned_summary']:\n",
    "    if(len(i.split())<=8):\n",
    "        cnt=cnt+1\n",
    "print(cnt/len(data['cleaned_summary']))"
   ]
  },
  {
   "cell_type": "markdown",
   "metadata": {
    "colab_type": "text",
    "id": "yYB4Ga9KMjEu"
   },
   "source": [
    "We observe that 94% of the summaries have length below 8. So, we can fix maximum length of summary to 8.\n",
    "\n",
    "Let us fix the maximum length of review to 30"
   ]
  },
  {
   "cell_type": "code",
   "execution_count": 18,
   "metadata": {
    "colab": {},
    "colab_type": "code",
    "id": "ZKD5VOWqFxhC"
   },
   "outputs": [],
   "source": [
    "max_text_len=30\n",
    "max_summary_len=10"
   ]
  },
  {
   "cell_type": "markdown",
   "metadata": {
    "colab_type": "text",
    "id": "E6d48E-8M4VO"
   },
   "source": [
    "Let us select the reviews and summaries whose length falls below or equal to **max_text_len** and **max_summary_len**"
   ]
  },
  {
   "cell_type": "code",
   "execution_count": 19,
   "metadata": {
    "colab": {},
    "colab_type": "code",
    "id": "yY0tEJP0FxhI"
   },
   "outputs": [],
   "source": [
    "cleaned_text =np.array(data['cleaned_text'])\n",
    "cleaned_summary=np.array(data['cleaned_summary'])\n",
    "\n",
    "short_text=[]\n",
    "short_summary=[]\n",
    "\n",
    "for i in range(len(cleaned_text)):\n",
    "    if(len(cleaned_summary[i].split())<=max_summary_len and len(cleaned_text[i].split())<=max_text_len):\n",
    "        short_text.append(cleaned_text[i])\n",
    "        short_summary.append(cleaned_summary[i])\n",
    "        \n",
    "df=pd.DataFrame({'text':short_text,'summary':short_summary})"
   ]
  },
  {
   "cell_type": "markdown",
   "metadata": {
    "colab_type": "text",
    "id": "tR1uh8xSNUma"
   },
   "source": [
    "Remember to add the **START** and **END** special tokens at the beginning and end of the summary. Here, I have chosen **sostok** and **eostok** as START and END tokens\n",
    "\n",
    "**Note:** Be sure that the chosen special tokens never appear in the summary"
   ]
  },
  {
   "cell_type": "code",
   "execution_count": 20,
   "metadata": {
    "colab": {},
    "colab_type": "code",
    "id": "EwLUH78CFxhg"
   },
   "outputs": [],
   "source": [
    "df['summary'] = df['summary'].apply(lambda x : 'sostok '+ x + ' eostok')"
   ]
  },
  {
   "cell_type": "markdown",
   "metadata": {
    "colab_type": "text",
    "id": "1GlcX4RFOh13"
   },
   "source": [
    "We are getting closer to the model building part. Before that, we need to split our dataset into a training and validation set. We’ll use 90% of the dataset as the training data and evaluate the performance on the remaining 10% (holdout set):"
   ]
  },
  {
   "cell_type": "code",
   "execution_count": 21,
   "metadata": {
    "colab": {},
    "colab_type": "code",
    "id": "RakakKHcFxhl"
   },
   "outputs": [],
   "source": [
    "from sklearn.model_selection import train_test_split\n",
    "x_tr,x_val,y_tr,y_val=train_test_split(np.array(df['text']),np.array(df['summary']),test_size=0.1,random_state=0,shuffle=True) "
   ]
  },
  {
   "cell_type": "markdown",
   "metadata": {
    "colab_type": "text",
    "id": "Vq1mqyOHOtIl"
   },
   "source": [
    "#Preparing the Tokenizer\n",
    "\n",
    "A tokenizer builds the vocabulary and converts a word sequence to an integer sequence. Go ahead and build tokenizers for text and summary:\n",
    "\n",
    "#Text Tokenizer"
   ]
  },
  {
   "cell_type": "code",
   "execution_count": 22,
   "metadata": {
    "colab": {},
    "colab_type": "code",
    "id": "oRHTgX6hFxhq"
   },
   "outputs": [],
   "source": [
    "from keras.preprocessing.text import Tokenizer \n",
    "from keras.preprocessing.sequence import pad_sequences\n",
    "\n",
    "#prepare a tokenizer for reviews on training data\n",
    "x_tokenizer = Tokenizer() \n",
    "x_tokenizer.fit_on_texts(list(x_tr))"
   ]
  },
  {
   "cell_type": "markdown",
   "metadata": {
    "colab_type": "text",
    "id": "RzvLwYL_PDcx"
   },
   "source": [
    "#Rarewords and its Coverage\n",
    "\n",
    "Let us look at the proportion rare words and its total coverage in the entire text\n",
    "\n",
    "Here, I am defining the threshold to be 4 which means word whose count is below 4 is considered as a rare word"
   ]
  },
  {
   "cell_type": "code",
   "execution_count": 23,
   "metadata": {
    "colab": {},
    "colab_type": "code",
    "id": "y8KronV2Fxhx",
    "outputId": "d2eb2f27-fbbc-4e61-9556-3c3ff5e4327b"
   },
   "outputs": [
    {
     "name": "stdout",
     "output_type": "stream",
     "text": [
      "% of rare words in vocabulary: 65.97564857552125\n",
      "Total Coverage of rare words: 2.8991648882584453\n"
     ]
    }
   ],
   "source": [
    "thresh=4\n",
    "\n",
    "cnt=0\n",
    "tot_cnt=0\n",
    "freq=0\n",
    "tot_freq=0\n",
    "\n",
    "for key,value in x_tokenizer.word_counts.items():\n",
    "    tot_cnt=tot_cnt+1\n",
    "    tot_freq=tot_freq+value\n",
    "    if(value<thresh):\n",
    "        cnt=cnt+1\n",
    "        freq=freq+value\n",
    "    \n",
    "print(\"% of rare words in vocabulary:\",(cnt/tot_cnt)*100)\n",
    "print(\"Total Coverage of rare words:\",(freq/tot_freq)*100)"
   ]
  },
  {
   "cell_type": "markdown",
   "metadata": {
    "colab_type": "text",
    "id": "So-J-5kzQIeO"
   },
   "source": [
    "**Remember**:\n",
    "\n",
    "\n",
    "* **tot_cnt** gives the size of vocabulary (which means every unique words in the text)\n",
    " \n",
    "*   **cnt** gives me the no. of rare words whose count falls below threshold\n",
    "\n",
    "*  **tot_cnt - cnt** gives me the top most common words \n",
    "\n",
    "Let us define the tokenizer with top most common words for reviews."
   ]
  },
  {
   "cell_type": "code",
   "execution_count": 24,
   "metadata": {
    "colab": {},
    "colab_type": "code",
    "id": "J2giEsF3Fxh3"
   },
   "outputs": [],
   "source": [
    "#prepare a tokenizer for reviews on training data\n",
    "x_tokenizer = Tokenizer(num_words=tot_cnt-cnt) \n",
    "x_tokenizer.fit_on_texts(list(x_tr))\n",
    "\n",
    "#convert text sequences into integer sequences\n",
    "x_tr_seq    =   x_tokenizer.texts_to_sequences(x_tr) \n",
    "x_val_seq   =   x_tokenizer.texts_to_sequences(x_val)\n",
    "\n",
    "#padding zero upto maximum length\n",
    "x_tr    =   pad_sequences(x_tr_seq,  maxlen=max_text_len, padding='post')\n",
    "x_val   =   pad_sequences(x_val_seq, maxlen=max_text_len, padding='post')\n",
    "\n",
    "#size of vocabulary ( +1 for padding token)\n",
    "x_voc   =  x_tokenizer.num_words + 1"
   ]
  },
  {
   "cell_type": "code",
   "execution_count": 25,
   "metadata": {
    "colab": {},
    "colab_type": "code",
    "id": "DCbGMsm4FxiA",
    "outputId": "2d9165f0-e542-4114-91f3-e070d483fce9"
   },
   "outputs": [
    {
     "data": {
      "text/plain": [
       "8552"
      ]
     },
     "execution_count": 25,
     "metadata": {},
     "output_type": "execute_result"
    }
   ],
   "source": [
    "x_voc"
   ]
  },
  {
   "cell_type": "markdown",
   "metadata": {
    "colab_type": "text",
    "id": "uQfKP3sqRxi9"
   },
   "source": [
    "#Summary Tokenizer"
   ]
  },
  {
   "cell_type": "code",
   "execution_count": 26,
   "metadata": {
    "colab": {},
    "colab_type": "code",
    "id": "eRHqyBkBFxiJ"
   },
   "outputs": [],
   "source": [
    "#prepare a tokenizer for reviews on training data\n",
    "y_tokenizer = Tokenizer()   \n",
    "y_tokenizer.fit_on_texts(list(y_tr))"
   ]
  },
  {
   "cell_type": "markdown",
   "metadata": {
    "colab_type": "text",
    "id": "KInA6O6ZSkJz"
   },
   "source": [
    "#Rarewords and its Coverage\n",
    "\n",
    "Let us look at the proportion rare words and its total coverage in the entire summary\n",
    "\n",
    "Here, I am defining the threshold to be 6 which means word whose count is below 6 is considered as a rare word"
   ]
  },
  {
   "cell_type": "code",
   "execution_count": 27,
   "metadata": {
    "colab": {},
    "colab_type": "code",
    "id": "yzE5OiRLFxiM",
    "outputId": "7f7a4f89-b088-4847-8172-09e5a2383d0e"
   },
   "outputs": [
    {
     "name": "stdout",
     "output_type": "stream",
     "text": [
      "% of rare words in vocabulary: 77.86357786357786\n",
      "Total Coverage of rare words: 5.280070297558538\n"
     ]
    }
   ],
   "source": [
    "thresh=6\n",
    "\n",
    "cnt=0\n",
    "tot_cnt=0\n",
    "freq=0\n",
    "tot_freq=0\n",
    "\n",
    "for key,value in y_tokenizer.word_counts.items():\n",
    "    tot_cnt=tot_cnt+1\n",
    "    tot_freq=tot_freq+value\n",
    "    if(value<thresh):\n",
    "        cnt=cnt+1\n",
    "        freq=freq+value\n",
    "    \n",
    "print(\"% of rare words in vocabulary:\",(cnt/tot_cnt)*100)\n",
    "print(\"Total Coverage of rare words:\",(freq/tot_freq)*100)"
   ]
  },
  {
   "cell_type": "markdown",
   "metadata": {
    "colab_type": "text",
    "id": "0PBhzKuRSw_9"
   },
   "source": [
    "Let us define the tokenizer with top most common words for summary."
   ]
  },
  {
   "cell_type": "code",
   "execution_count": 28,
   "metadata": {
    "colab": {},
    "colab_type": "code",
    "id": "-fswLvIgFxiR"
   },
   "outputs": [],
   "source": [
    "#prepare a tokenizer for reviews on training data\n",
    "y_tokenizer = Tokenizer(num_words=tot_cnt-cnt) \n",
    "y_tokenizer.fit_on_texts(list(y_tr))\n",
    "\n",
    "#convert text sequences into integer sequences\n",
    "y_tr_seq    =   y_tokenizer.texts_to_sequences(y_tr) \n",
    "y_val_seq   =   y_tokenizer.texts_to_sequences(y_val) \n",
    "\n",
    "#padding zero upto maximum length\n",
    "y_tr    =   pad_sequences(y_tr_seq, maxlen=max_summary_len, padding='post')\n",
    "y_val   =   pad_sequences(y_val_seq, maxlen=max_summary_len, padding='post')\n",
    "\n",
    "#size of vocabulary\n",
    "y_voc  =   y_tokenizer.num_words +1"
   ]
  },
  {
   "cell_type": "markdown",
   "metadata": {
    "colab_type": "text",
    "id": "qqwDUT5oTFmn"
   },
   "source": [
    "Let us check whether word count of start token is equal to length of the training data"
   ]
  },
  {
   "cell_type": "code",
   "execution_count": 29,
   "metadata": {
    "colab": {},
    "colab_type": "code",
    "id": "pR8IX9FRFxiY",
    "outputId": "b116cdbd-42c4-4ede-9f6d-46284115393e"
   },
   "outputs": [
    {
     "data": {
      "text/plain": [
       "(43304, 43304)"
      ]
     },
     "execution_count": 29,
     "metadata": {},
     "output_type": "execute_result"
    }
   ],
   "source": [
    "y_tokenizer.word_counts['sostok'],len(y_tr)   "
   ]
  },
  {
   "cell_type": "markdown",
   "metadata": {
    "colab_type": "text",
    "id": "LVFhFVguTTtw"
   },
   "source": [
    "Here, I am deleting the rows that contain only **START** and **END** tokens"
   ]
  },
  {
   "cell_type": "code",
   "execution_count": 30,
   "metadata": {
    "colab": {},
    "colab_type": "code",
    "id": "kZ-vW82sFxih"
   },
   "outputs": [],
   "source": [
    "ind=[]\n",
    "for i in range(len(y_tr)):\n",
    "    cnt=0\n",
    "    for j in y_tr[i]:\n",
    "        if j!=0:\n",
    "            cnt=cnt+1\n",
    "    if(cnt==2):\n",
    "        ind.append(i)\n",
    "\n",
    "y_tr=np.delete(y_tr,ind, axis=0)\n",
    "x_tr=np.delete(x_tr,ind, axis=0)"
   ]
  },
  {
   "cell_type": "code",
   "execution_count": 31,
   "metadata": {
    "colab": {},
    "colab_type": "code",
    "id": "cx5NISuMFxik"
   },
   "outputs": [],
   "source": [
    "ind=[]\n",
    "for i in range(len(y_val)):\n",
    "    cnt=0\n",
    "    for j in y_val[i]:\n",
    "        if j!=0:\n",
    "            cnt=cnt+1\n",
    "    if(cnt==2):\n",
    "        ind.append(i)\n",
    "\n",
    "y_val=np.delete(y_val,ind, axis=0)\n",
    "x_val=np.delete(x_val,ind, axis=0)"
   ]
  },
  {
   "cell_type": "markdown",
   "metadata": {
    "colab_type": "text",
    "id": "wOtlDcthFxip"
   },
   "source": [
    "# Model building\n",
    "\n",
    "We are finally at the model building part. But before we do that, we need to familiarize ourselves with a few terms which are required prior to building the model.\n",
    "\n",
    "**Return Sequences = True**: When the return sequences parameter is set to True, LSTM produces the hidden state and cell state for every timestep\n",
    "\n",
    "**Return State = True**: When return state = True, LSTM produces the hidden state and cell state of the last timestep only\n",
    "\n",
    "**Initial State**: This is used to initialize the internal states of the LSTM for the first timestep\n",
    "\n",
    "**Stacked LSTM**: Stacked LSTM has multiple layers of LSTM stacked on top of each other. \n",
    "This leads to a better representation of the sequence. I encourage you to experiment with the multiple layers of the LSTM stacked on top of each other (it’s a great way to learn this)\n",
    "\n",
    "Here, we are building a 3 stacked LSTM for the encoder:"
   ]
  },
  {
   "cell_type": "code",
   "execution_count": 32,
   "metadata": {
    "colab": {},
    "colab_type": "code",
    "id": "zXef38nBFxir",
    "outputId": "7ae99521-46f8-4c6f-9cba-4979deffeee8"
   },
   "outputs": [
    {
     "name": "stdout",
     "output_type": "stream",
     "text": [
      "WARNING:tensorflow:From C:\\Users\\Shantanu\\Anaconda3\\envs\\TXTSUMG\\lib\\site-packages\\keras\\backend\\tensorflow_backend.py:95: The name tf.reset_default_graph is deprecated. Please use tf.compat.v1.reset_default_graph instead.\n",
      "\n",
      "WARNING:tensorflow:From C:\\Users\\Shantanu\\Anaconda3\\envs\\TXTSUMG\\lib\\site-packages\\keras\\backend\\tensorflow_backend.py:98: The name tf.placeholder_with_default is deprecated. Please use tf.compat.v1.placeholder_with_default instead.\n",
      "\n",
      "WARNING:tensorflow:From C:\\Users\\Shantanu\\Anaconda3\\envs\\TXTSUMG\\lib\\site-packages\\keras\\backend\\tensorflow_backend.py:102: The name tf.get_default_graph is deprecated. Please use tf.compat.v1.get_default_graph instead.\n",
      "\n",
      "WARNING:tensorflow:From C:\\Users\\Shantanu\\Anaconda3\\envs\\TXTSUMG\\lib\\site-packages\\tensorflow\\python\\keras\\initializers.py:119: calling RandomUniform.__init__ (from tensorflow.python.ops.init_ops) with dtype is deprecated and will be removed in a future version.\n",
      "Instructions for updating:\n",
      "Call initializer instance with the dtype argument instead of passing it to the constructor\n",
      "WARNING:tensorflow:From C:\\Users\\Shantanu\\Anaconda3\\envs\\TXTSUMG\\lib\\site-packages\\tensorflow\\python\\ops\\init_ops.py:1251: calling VarianceScaling.__init__ (from tensorflow.python.ops.init_ops) with dtype is deprecated and will be removed in a future version.\n",
      "Instructions for updating:\n",
      "Call initializer instance with the dtype argument instead of passing it to the constructor\n",
      "WARNING:tensorflow:Entity <bound method AttentionLayer.call of <Attention.AttentionLayer object at 0x0000018D8B69DD68>> could not be transformed and will be executed as-is. Please report this to the AutgoGraph team. When filing the bug, set the verbosity to 10 (on Linux, `export AUTOGRAPH_VERBOSITY=10`) and attach the full output. Cause: converting <bound method AttentionLayer.call of <Attention.AttentionLayer object at 0x0000018D8B69DD68>>: AttributeError: module 'gast' has no attribute 'Num'\n",
      "WARNING: Entity <bound method AttentionLayer.call of <Attention.AttentionLayer object at 0x0000018D8B69DD68>> could not be transformed and will be executed as-is. Please report this to the AutgoGraph team. When filing the bug, set the verbosity to 10 (on Linux, `export AUTOGRAPH_VERBOSITY=10`) and attach the full output. Cause: converting <bound method AttentionLayer.call of <Attention.AttentionLayer object at 0x0000018D8B69DD68>>: AttributeError: module 'gast' has no attribute 'Num'\n",
      "Model: \"model\"\n",
      "__________________________________________________________________________________________________\n",
      "Layer (type)                    Output Shape         Param #     Connected to                     \n",
      "==================================================================================================\n",
      "input_1 (InputLayer)            [(None, 30)]         0                                            \n",
      "__________________________________________________________________________________________________\n",
      "embedding (Embedding)           (None, 30, 200)      1710400     input_1[0][0]                    \n",
      "__________________________________________________________________________________________________\n",
      "lstm (LSTM)                     [(None, 30, 300), (N 601200      embedding[0][0]                  \n",
      "__________________________________________________________________________________________________\n",
      "input_2 (InputLayer)            [(None, None)]       0                                            \n",
      "__________________________________________________________________________________________________\n",
      "lstm_1 (LSTM)                   [(None, 30, 300), (N 721200      lstm[0][0]                       \n",
      "__________________________________________________________________________________________________\n",
      "embedding_1 (Embedding)         (None, None, 200)    413000      input_2[0][0]                    \n",
      "__________________________________________________________________________________________________\n",
      "lstm_2 (LSTM)                   [(None, 30, 300), (N 721200      lstm_1[0][0]                     \n",
      "__________________________________________________________________________________________________\n",
      "lstm_3 (LSTM)                   [(None, None, 300),  601200      embedding_1[0][0]                \n",
      "                                                                 lstm_2[0][1]                     \n",
      "                                                                 lstm_2[0][2]                     \n",
      "__________________________________________________________________________________________________\n",
      "attention_layer (AttentionLayer ((None, None, 300),  180300      lstm_2[0][0]                     \n",
      "                                                                 lstm_3[0][0]                     \n",
      "__________________________________________________________________________________________________\n",
      "concat_layer (Concatenate)      (None, None, 600)    0           lstm_3[0][0]                     \n",
      "                                                                 attention_layer[0][0]            \n",
      "__________________________________________________________________________________________________\n",
      "time_distributed (TimeDistribut (None, None, 2065)   1241065     concat_layer[0][0]               \n",
      "==================================================================================================\n",
      "Total params: 6,189,565\n",
      "Trainable params: 6,189,565\n",
      "Non-trainable params: 0\n",
      "__________________________________________________________________________________________________\n"
     ]
    }
   ],
   "source": [
    "from keras import backend as K \n",
    "K.clear_session()\n",
    "\n",
    "latent_dim = 300\n",
    "embedding_dim=200\n",
    "\n",
    "# Encoder\n",
    "encoder_inputs = Input(shape=(max_text_len,))\n",
    "\n",
    "#embedding layer\n",
    "enc_emb =  Embedding(x_voc, embedding_dim,trainable=True)(encoder_inputs)\n",
    "\n",
    "#encoder lstm 1\n",
    "encoder_lstm1 = LSTM(latent_dim,return_sequences=True,return_state=True,dropout=0.4,recurrent_dropout=0.4)\n",
    "encoder_output1, state_h1, state_c1 = encoder_lstm1(enc_emb)\n",
    "\n",
    "#encoder lstm 2\n",
    "encoder_lstm2 = LSTM(latent_dim,return_sequences=True,return_state=True,dropout=0.4,recurrent_dropout=0.4)\n",
    "encoder_output2, state_h2, state_c2 = encoder_lstm2(encoder_output1)\n",
    "\n",
    "#encoder lstm 3\n",
    "encoder_lstm3=LSTM(latent_dim, return_state=True, return_sequences=True,dropout=0.4,recurrent_dropout=0.4)\n",
    "encoder_outputs, state_h, state_c= encoder_lstm3(encoder_output2)\n",
    "\n",
    "# Set up the decoder, using `encoder_states` as initial state.\n",
    "decoder_inputs = Input(shape=(None,))\n",
    "\n",
    "#embedding layer\n",
    "dec_emb_layer = Embedding(y_voc, embedding_dim,trainable=True)\n",
    "dec_emb = dec_emb_layer(decoder_inputs)\n",
    "\n",
    "decoder_lstm = LSTM(latent_dim, return_sequences=True, return_state=True,dropout=0.4,recurrent_dropout=0.2)\n",
    "decoder_outputs,decoder_fwd_state, decoder_back_state = decoder_lstm(dec_emb,initial_state=[state_h, state_c])\n",
    "\n",
    "# Attention layer\n",
    "attn_layer = AttentionLayer(name='attention_layer')\n",
    "attn_out, attn_states = attn_layer([encoder_outputs, decoder_outputs])\n",
    "\n",
    "# Concat attention input and decoder LSTM output\n",
    "decoder_concat_input = Concatenate(axis=-1, name='concat_layer')([decoder_outputs, attn_out])\n",
    "\n",
    "#dense layer\n",
    "decoder_dense =  TimeDistributed(Dense(y_voc, activation='softmax'))\n",
    "decoder_outputs = decoder_dense(decoder_concat_input)\n",
    "\n",
    "# Define the model \n",
    "model = Model([encoder_inputs, decoder_inputs], decoder_outputs)\n",
    "\n",
    "model.summary() "
   ]
  },
  {
   "cell_type": "code",
   "execution_count": 35,
   "metadata": {},
   "outputs": [],
   "source": [
    "from tensorflow.keras import optimizers"
   ]
  },
  {
   "cell_type": "markdown",
   "metadata": {
    "colab_type": "text",
    "id": "0ZVlfRuMUcoP"
   },
   "source": [
    "I am using sparse categorical cross-entropy as the loss function since it converts the integer sequence to a one-hot vector on the fly. This overcomes any memory issues."
   ]
  },
  {
   "cell_type": "code",
   "execution_count": 46,
   "metadata": {
    "colab": {},
    "colab_type": "code",
    "id": "Lwfi1Fm8Fxiz"
   },
   "outputs": [],
   "source": [
    "# sgd = optimizers.SGD(lr=0.01, decay=1e-6, momentum=0.9, nesterov=True)\n",
    "model.compile(optimizer='RMSProp', loss='sparse_categorical_crossentropy', metrics=['accuracy'])"
   ]
  },
  {
   "cell_type": "markdown",
   "metadata": {
    "colab_type": "text",
    "id": "p0ykDbxfUhyw"
   },
   "source": [
    "Remember the concept of early stopping? It is used to stop training the neural network at the right time by monitoring a user-specified metric. Here, I am monitoring the validation loss (val_loss). Our model will stop training once the validation loss increases:\n"
   ]
  },
  {
   "cell_type": "code",
   "execution_count": 47,
   "metadata": {
    "colab": {},
    "colab_type": "code",
    "id": "s-A3J92MUljB"
   },
   "outputs": [],
   "source": [
    "es = EarlyStopping(monitor='val_loss', mode='min', verbose=1,patience=4)"
   ]
  },
  {
   "cell_type": "markdown",
   "metadata": {
    "colab_type": "text",
    "id": "Mw6CVECaUq5b"
   },
   "source": [
    "We’ll train the model on a batch size of 128 and validate it on the holdout set (which is 10% of our dataset):"
   ]
  },
  {
   "cell_type": "code",
   "execution_count": 48,
   "metadata": {
    "colab": {},
    "colab_type": "code",
    "id": "ETnPzA4OFxi3",
    "outputId": "477e374f-7cf2-4d60-f86e-2c49c9cebedb"
   },
   "outputs": [
    {
     "name": "stdout",
     "output_type": "stream",
     "text": [
      "Train on 42215 samples, validate on 4679 samples\n",
      "Epoch 1/100\n",
      "42215/42215 [==============================] - 43s 1ms/sample - loss: 2.1351 - acc: 0.6707 - val_loss: 2.0348 - val_acc: 0.6788\n",
      "Epoch 2/100\n",
      "42215/42215 [==============================] - 40s 956us/sample - loss: 1.9803 - acc: 0.6809 - val_loss: 1.8971 - val_acc: 0.6861\n",
      "Epoch 3/100\n",
      "42215/42215 [==============================] - 40s 957us/sample - loss: 1.8702 - acc: 0.6887 - val_loss: 1.8156 - val_acc: 0.6937\n",
      "Epoch 4/100\n",
      "42215/42215 [==============================] - 40s 956us/sample - loss: 1.7914 - acc: 0.6948 - val_loss: 1.7649 - val_acc: 0.6978\n",
      "Epoch 5/100\n",
      "42215/42215 [==============================] - 40s 959us/sample - loss: 1.7346 - acc: 0.6995 - val_loss: 1.7321 - val_acc: 0.7014\n",
      "Epoch 6/100\n",
      "42215/42215 [==============================] - 40s 959us/sample - loss: 1.6894 - acc: 0.7030 - val_loss: 1.7041 - val_acc: 0.7052\n",
      "Epoch 7/100\n",
      "42215/42215 [==============================] - 41s 972us/sample - loss: 1.6489 - acc: 0.7060 - val_loss: 1.6858 - val_acc: 0.7056\n",
      "Epoch 8/100\n",
      "42215/42215 [==============================] - 41s 960us/sample - loss: 1.6138 - acc: 0.7085 - val_loss: 1.6672 - val_acc: 0.7071\n",
      "Epoch 9/100\n",
      "42215/42215 [==============================] - 40s 958us/sample - loss: 1.5803 - acc: 0.7114 - val_loss: 1.6540 - val_acc: 0.7089\n",
      "Epoch 10/100\n",
      "42215/42215 [==============================] - 40s 959us/sample - loss: 1.5508 - acc: 0.7137 - val_loss: 1.6442 - val_acc: 0.7099\n",
      "Epoch 11/100\n",
      "42215/42215 [==============================] - 41s 960us/sample - loss: 1.5231 - acc: 0.7159 - val_loss: 1.6403 - val_acc: 0.7108\n",
      "Epoch 12/100\n",
      "42215/42215 [==============================] - 41s 960us/sample - loss: 1.4976 - acc: 0.7177 - val_loss: 1.6341 - val_acc: 0.7114\n",
      "Epoch 13/100\n",
      "42215/42215 [==============================] - 40s 959us/sample - loss: 1.4736 - acc: 0.7198 - val_loss: 1.6277 - val_acc: 0.7120\n",
      "Epoch 14/100\n",
      "42215/42215 [==============================] - 40s 959us/sample - loss: 1.4499 - acc: 0.7215 - val_loss: 1.6300 - val_acc: 0.7113\n",
      "Epoch 15/100\n",
      "42215/42215 [==============================] - 41s 959us/sample - loss: 1.4283 - acc: 0.7234 - val_loss: 1.6270 - val_acc: 0.7119\n",
      "Epoch 16/100\n",
      "42215/42215 [==============================] - 41s 960us/sample - loss: 1.4079 - acc: 0.7250 - val_loss: 1.6221 - val_acc: 0.7123\n",
      "Epoch 17/100\n",
      "42215/42215 [==============================] - 41s 961us/sample - loss: 1.3867 - acc: 0.7266 - val_loss: 1.6252 - val_acc: 0.7125\n",
      "Epoch 18/100\n",
      "42215/42215 [==============================] - 41s 960us/sample - loss: 1.3674 - acc: 0.7288 - val_loss: 1.6244 - val_acc: 0.7127\n",
      "Epoch 19/100\n",
      "42215/42215 [==============================] - 41s 961us/sample - loss: 1.3485 - acc: 0.7302 - val_loss: 1.6301 - val_acc: 0.7140\n",
      "Epoch 20/100\n",
      "42215/42215 [==============================] - 41s 960us/sample - loss: 1.3300 - acc: 0.7317 - val_loss: 1.6285 - val_acc: 0.7129\n",
      "Epoch 00020: early stopping\n"
     ]
    }
   ],
   "source": [
    "history=model.fit([x_tr,y_tr[:,:-1]], y_tr.reshape(y_tr.shape[0],y_tr.shape[1], 1)[:,1:],\n",
    "                  epochs=100,\n",
    "                  callbacks=[es],\n",
    "                  batch_size=256, \n",
    "                  validation_data=([x_val,y_val[:,:-1]], y_val.reshape(y_val.shape[0],y_val.shape[1], 1)[:,1:]))"
   ]
  },
  {
   "cell_type": "markdown",
   "metadata": {
    "colab_type": "text",
    "id": "0ezKYOp2UxG5"
   },
   "source": [
    "#Understanding the Diagnostic plot\n",
    "\n",
    "Now, we will plot a few diagnostic plots to understand the behavior of the model over time:"
   ]
  },
  {
   "cell_type": "code",
   "execution_count": 49,
   "metadata": {
    "colab": {},
    "colab_type": "code",
    "id": "tDTNLAURFxjE",
    "outputId": "e2ea6e44-3931-4014-97a1-03fa2a441228"
   },
   "outputs": [
    {
     "data": {
      "image/png": "[encoded data removed]",
      "text/plain": [
       "<Figure size 432x288 with 1 Axes>"
      ]
     },
     "metadata": {
      "needs_background": "light"
     },
     "output_type": "display_data"
    }
   ],
   "source": [
    "from matplotlib import pyplot\n",
    "pyplot.plot(history.history['loss'], label='train')\n",
    "pyplot.plot(history.history['val_loss'], label='test')\n",
    "pyplot.legend()\n",
    "pyplot.show()"
   ]
  },
  {
   "cell_type": "markdown",
   "metadata": {
    "colab_type": "text",
    "id": "HSyx-HvpUz2o"
   },
   "source": [
    "From the plot, we can infer that validation loss has increased after epoch 17 for 2 successive epochs. Hence, training is stopped at epoch 19.\n",
    "\n",
    "Next, let’s build the dictionary to convert the index to word for target and source vocabulary:"
   ]
  },
  {
   "cell_type": "code",
   "execution_count": 50,
   "metadata": {
    "colab": {},
    "colab_type": "code",
    "id": "sBX0zZnOFxjW"
   },
   "outputs": [],
   "source": [
    "reverse_target_word_index=y_tokenizer.index_word\n",
    "reverse_source_word_index=x_tokenizer.index_word\n",
    "target_word_index=y_tokenizer.word_index"
   ]
  },
  {
   "cell_type": "markdown",
   "metadata": {
    "colab_type": "text",
    "id": "eM_nU_VvFxjq"
   },
   "source": [
    "# Inference\n",
    "\n",
    "Set up the inference for the encoder and decoder:"
   ]
  },
  {
   "cell_type": "code",
   "execution_count": 51,
   "metadata": {
    "colab": {},
    "colab_type": "code",
    "id": "9QkrNV-4Fxjt"
   },
   "outputs": [
    {
     "name": "stdout",
     "output_type": "stream",
     "text": [
      "WARNING:tensorflow:Entity <bound method AttentionLayer.call of <Attention.AttentionLayer object at 0x0000018D8B69DD68>> could not be transformed and will be executed as-is. Please report this to the AutgoGraph team. When filing the bug, set the verbosity to 10 (on Linux, `export AUTOGRAPH_VERBOSITY=10`) and attach the full output. Cause: converting <bound method AttentionLayer.call of <Attention.AttentionLayer object at 0x0000018D8B69DD68>>: AttributeError: module 'gast' has no attribute 'Num'\n",
      "WARNING: Entity <bound method AttentionLayer.call of <Attention.AttentionLayer object at 0x0000018D8B69DD68>> could not be transformed and will be executed as-is. Please report this to the AutgoGraph team. When filing the bug, set the verbosity to 10 (on Linux, `export AUTOGRAPH_VERBOSITY=10`) and attach the full output. Cause: converting <bound method AttentionLayer.call of <Attention.AttentionLayer object at 0x0000018D8B69DD68>>: AttributeError: module 'gast' has no attribute 'Num'\n"
     ]
    }
   ],
   "source": [
    "# Encode the input sequence to get the feature vector\n",
    "encoder_model = Model(inputs=encoder_inputs,outputs=[encoder_outputs, state_h, state_c])\n",
    "\n",
    "# Decoder setup\n",
    "# Below tensors will hold the states of the previous time step\n",
    "decoder_state_input_h = Input(shape=(latent_dim,))\n",
    "decoder_state_input_c = Input(shape=(latent_dim,))\n",
    "decoder_hidden_state_input = Input(shape=(max_text_len,latent_dim))\n",
    "\n",
    "# Get the embeddings of the decoder sequence\n",
    "dec_emb2= dec_emb_layer(decoder_inputs) \n",
    "# To predict the next word in the sequence, set the initial states to the states from the previous time step\n",
    "decoder_outputs2, state_h2, state_c2 = decoder_lstm(dec_emb2, initial_state=[decoder_state_input_h, decoder_state_input_c])\n",
    "\n",
    "#attention inference\n",
    "attn_out_inf, attn_states_inf = attn_layer([decoder_hidden_state_input, decoder_outputs2])\n",
    "decoder_inf_concat = Concatenate(axis=-1, name='concat')([decoder_outputs2, attn_out_inf])\n",
    "\n",
    "# A dense softmax layer to generate prob dist. over the target vocabulary\n",
    "decoder_outputs2 = decoder_dense(decoder_inf_concat) \n",
    "\n",
    "# Final decoder model\n",
    "decoder_model = Model(\n",
    "    [decoder_inputs] + [decoder_hidden_state_input,decoder_state_input_h, decoder_state_input_c],\n",
    "    [decoder_outputs2] + [state_h2, state_c2])"
   ]
  },
  {
   "cell_type": "markdown",
   "metadata": {
    "colab_type": "text",
    "id": "zOiyk4ToWe74"
   },
   "source": [
    "We are defining a function below which is the implementation of the inference process (which we covered [here](https://www.analyticsvidhya.com/blog/2019/06/comprehensive-guide-text-summarization-using-deep-learning-python/)):"
   ]
  },
  {
   "cell_type": "code",
   "execution_count": 52,
   "metadata": {
    "colab": {},
    "colab_type": "code",
    "id": "6f6TTFnBFxj6"
   },
   "outputs": [],
   "source": [
    "def decode_sequence(input_seq):\n",
    "    # Encode the input as state vectors.\n",
    "    e_out, e_h, e_c = encoder_model.predict(input_seq)\n",
    "    \n",
    "    # Generate empty target sequence of length 1.\n",
    "    target_seq = np.zeros((1,1))\n",
    "    \n",
    "    # Populate the first word of target sequence with the start word.\n",
    "    target_seq[0, 0] = target_word_index['sostok']\n",
    "\n",
    "    stop_condition = False\n",
    "    decoded_sentence = ''\n",
    "    while not stop_condition:\n",
    "      \n",
    "        output_tokens, h, c = decoder_model.predict([target_seq] + [e_out, e_h, e_c])\n",
    "\n",
    "        # Sample a token\n",
    "        sampled_token_index = np.argmax(output_tokens[0, -1, :])\n",
    "        sampled_token = reverse_target_word_index[sampled_token_index]\n",
    "        \n",
    "        if(sampled_token!='eostok'):\n",
    "            decoded_sentence += ' '+sampled_token\n",
    "\n",
    "        # Exit condition: either hit max length or find stop word.\n",
    "        if (sampled_token == 'eostok'  or len(decoded_sentence.split()) >= (max_summary_len-1)):\n",
    "            stop_condition = True\n",
    "\n",
    "        # Update the target sequence (of length 1).\n",
    "        target_seq = np.zeros((1,1))\n",
    "        target_seq[0, 0] = sampled_token_index\n",
    "\n",
    "        # Update internal states\n",
    "        e_h, e_c = h, c\n",
    "\n",
    "    return decoded_sentence"
   ]
  },
  {
   "cell_type": "markdown",
   "metadata": {
    "colab_type": "text",
    "id": "6GuDf4TPWt6_"
   },
   "source": [
    "Let us define the functions to convert an integer sequence to a word sequence for summary as well as the reviews:"
   ]
  },
  {
   "cell_type": "code",
   "execution_count": 53,
   "metadata": {
    "colab": {},
    "colab_type": "code",
    "id": "aAUntznIFxj9"
   },
   "outputs": [],
   "source": [
    "def seq2summary(input_seq):\n",
    "    newString=''\n",
    "    for i in input_seq:\n",
    "        if((i!=0 and i!=target_word_index['sostok']) and i!=target_word_index['eostok']):\n",
    "            newString=newString+reverse_target_word_index[i]+' '\n",
    "    return newString\n",
    "\n",
    "def seq2text(input_seq):\n",
    "    newString=''\n",
    "    for i in input_seq:\n",
    "        if(i!=0):\n",
    "            newString=newString+reverse_source_word_index[i]+' '\n",
    "    return newString"
   ]
  },
  {
   "cell_type": "markdown",
   "metadata": {
    "colab_type": "text",
    "id": "9gM4ALyfWwA9"
   },
   "source": [
    "Here are a few summaries generated by the model:"
   ]
  },
  {
   "cell_type": "code",
   "execution_count": 54,
   "metadata": {
    "colab": {},
    "colab_type": "code",
    "id": "BUtQmQTmFxkI",
    "outputId": "f407d9fc-e0cd-4082-98f5-bd1f562dc26f"
   },
   "outputs": [
    {
     "name": "stdout",
     "output_type": "stream",
     "text": [
      "Review: purchased product christmas gift assumed coming bellagio would perfect person gave tried one packet gave rest away said smelled great tasted chalky would drink \n",
      "Original summary: chocolate truffle \n",
      "Predicted summary:  just ok\n",
      "\n",
      "\n",
      "Review: nice quality looking keep bamboo salt keeper swing open cover grab pinch like minerals instead additives \n",
      "Original summary: nice quality \n",
      "Predicted summary:  good product\n",
      "\n",
      "\n",
      "Review: eat gluten free wonder snack crackers wonderful tried find tasty snacks hard find however crackers good \n",
      "Original summary: eating gluten free \n",
      "Predicted summary:  great gluten free snack\n",
      "\n",
      "\n",
      "Review: great source essential fatty acids without unpleasant tasting fish oil flax seed oil also agree stomach also think helps ibs symptoms \n",
      "Original summary: great alternative to flax or fish oil \n",
      "Predicted summary:  great product\n",
      "\n",
      "\n",
      "Review: anything really exciting little sweet kids like relatively healthy stays crunchy continue buy kids \n",
      "Original summary: crunchy little too sweet \n",
      "Predicted summary:  great snack\n",
      "\n",
      "\n",
      "Review: use syrup create coffee signature drink caf carmel perfect ounce two syrup oz coffee top whipped cream sprinkles ghirardelli delicious savings \n",
      "Original summary: coffee \n",
      "Predicted summary:  great product\n",
      "\n",
      "\n",
      "Review: found flavor store searched forever find went amazon purchased little afraid buying food amazon fear like buy store could find cheaper amazon \n",
      "Original summary: pop tarts roll flavor \n",
      "Predicted summary:  great product\n",
      "\n",
      "\n",
      "Review: really like product always fresh taste great especially like lid easy use secure like brands flip lid tears easily leak \n",
      "Original summary: it is great \n",
      "Predicted summary:  great product\n",
      "\n",
      "\n",
      "Review: cute idea would made great christmas gift pretzels million pieces dozen recognizable christmas shape needs way better packing guess making lot pretzel crusted chicken \n",
      "Original summary: cute idea but \n",
      "Predicted summary:  not as pictured\n",
      "\n",
      "\n",
      "Review: dogs love actually little dance settling eat way three stars well way much packaging emails cs letter gone \n",
      "Original summary: product vs packaging \n",
      "Predicted summary:  my dogs love it\n",
      "\n",
      "\n",
      "Review: basket smaller anticipated price bought disappointed also came different basket shown \n",
      "Original summary: basket for \n",
      "Predicted summary:  nice gift\n",
      "\n",
      "\n",
      "Review: strong tasting bar sweet tasting close eat large drink seem satisfying afternoon snack \n",
      "Original summary: bar \n",
      "Predicted summary:  great snack\n",
      "\n",
      "\n",
      "Review: great training break small bits since soft dogs picky never turned one \n",
      "Original summary: dogs love them \n",
      "Predicted summary:  great treats\n",
      "\n",
      "\n",
      "Review: since purchase cooks bread machine also great item using bread mix best market opinion \n",
      "Original summary: best bread mix we have tried \n",
      "Predicted summary:  pamela bread mix\n",
      "\n",
      "\n",
      "Review: excited find cherries husband loves disappointed old tasting would order \n",
      "Original summary: disappointed \n",
      "Predicted summary:  not the best\n",
      "\n",
      "\n",
      "Review: product healthy snack kids homework time mixture sweet salty hits spot till next meal \n",
      "Original summary: great snack \n",
      "Predicted summary:  great snack\n",
      "\n",
      "\n",
      "Review: use like noodles good eat easy prepare quickly kids love use replace top oriental style stir fry soup sodium calories combine well meat veggies great compliment gluten free diet \n",
      "Original summary: good food easy and quick \n",
      "Predicted summary:  great for gluten free baking\n",
      "\n",
      "\n",
      "Review: recently bought green tea wanted try something plain green tea glad ginseng honey lemon add great flavor four bags makes gallon pitcher iced tea purchase \n",
      "Original summary: excellent flavor \n",
      "Predicted summary:  great tea\n",
      "\n",
      "\n",
      "Review: product perfect someone eats sugar xylitol wonderful alternative sugar unlike sugar actually health benefits consuming xylitol \n",
      "Original summary: excellent alternative \n",
      "Predicted summary:  great sugar free candy\n",
      "\n",
      "\n",
      "Review: getting fresh pressed pomegranate juice little bucks per bottle please \n",
      "Original summary: rip off \n",
      "Predicted summary:  not what expected\n",
      "\n",
      "\n",
      "Review: beef jerky lovers like jerky best tasting stuff ive found anywhere flavors great black peppered opinion best wood smoked little dry still good would recommend anybody \n",
      "Original summary: great stuff \n",
      "Predicted summary:  great jerky\n",
      "\n",
      "\n",
      "Review: keebler chips deluxe coconut ounce packages cookies great someone amazon shipping department took pack received packs paid eight package shame \n",
      "Original summary: amazon pack of my cookies \n",
      "Predicted summary:  great cookies\n",
      "\n",
      "\n",
      "Review: product satisfying crave flavor without calories use two tablets mug coffee perfect use less convenient size tablets flavor right highly recommend love vanilla flavored coffee calories \n",
      "Original summary: delicious \n",
      "Predicted summary:  best coffee\n",
      "\n",
      "\n",
      "Review: glad found product lactose intolerant regular milk anyway tried soy like taste rice dream rice milk truly dream glad found tried love eat \n",
      "Original summary: love it \n",
      "Predicted summary:  great for cooking\n",
      "\n",
      "\n",
      "Review: love candies sister got sees present shared buy often soft middle almonds yummy \n",
      "Original summary: yummy \n",
      "Predicted summary:  yummy\n",
      "\n",
      "\n",
      "Review: great flavor trust stuff delivers exactly says get ice bath ready wear loose \n",
      "Original summary: the best of the hot sauces \n",
      "Predicted summary:  great\n",
      "\n",
      "\n",
      "Review: grade much richer maple flavor grade tasted quite treat weekend family breakfast highly recommend \n",
      "Original summary: excellent \n",
      "Predicted summary:  great syrup\n",
      "\n",
      "\n",
      "Review: bought bulbs use laundry room better spot stains living better light dark winter days well pleased \n",
      "Original summary: product that is all as \n",
      "Predicted summary:  good product\n",
      "\n",
      "\n",
      "Review: husband loves starbucks sumatra cup samples bold coffee keurig tried far favorite right amount flavor strength taste \n",
      "Original summary: bold and full of flavor good flavor \n",
      "Predicted summary:  great coffee\n",
      "\n",
      "\n",
      "Review: light grassy smoke tone drink without adding sweetener milk \n",
      "Original summary: fine cup of tea \n",
      "Predicted summary:  not what expected\n",
      "\n",
      "\n",
      "Review: different kinds cookies one rocks would never know gluten free \n",
      "Original summary: great tasting \n",
      "Predicted summary:  great cookies\n",
      "\n",
      "\n",
      "Review: used bring back italy delighted found artificial ingredients taste close home made cake commercial product put kids lunch box love afternoon dinner little treat good one also available believe \n",
      "Original summary: mix \n",
      "Predicted summary:  great for lunch\n",
      "\n",
      "\n",
      "Review: fewer fewer stores carry loose leaf tea glad find amazon knew become avid fan amazon last months wonderful someone else shopping allows find products one place \n",
      "Original summary: lipton loose leaf tea \n",
      "Predicted summary:  great tea\n",
      "\n",
      "\n",
      "Review: tried coffee working early morning job one best coffees ever tried flavor warm strong left wanting one cup go starbucks time honestly thought coffee better definitely recommend \n",
      "Original summary: amazing coffee \n",
      "Predicted summary:  great coffee\n",
      "\n",
      "\n",
      "Review: use hour energy replacement coffee coffee irritating throat eliminated desire drink coffee hour energy berry ounce bottles \n",
      "Original summary: hour coffee \n",
      "Predicted summary:  good coffee\n",
      "\n",
      "\n",
      "Review: dogs love antlers much cheaper antlers available amazon doggies love easily get perhaps last antlers hand hold dogs attention longer antlers extremely happy product continue order \n",
      "Original summary: doggie crack \n",
      "Predicted summary:  dogs love it\n",
      "\n",
      "\n",
      "Review: purchasing gluten free snack bars several years finding great price wonderful mention free shipping auto signed complaints far easier cheaper going store every week \n",
      "Original summary: great price for product use \n",
      "Predicted summary:  great gluten free snack\n",
      "\n",
      "\n",
      "Review: children love rice milk boxes right size lunches \n",
      "Original summary: great for lunches \n",
      "Predicted summary:  great for baby\n",
      "\n",
      "\n",
      "Review: thin bad tasting honey non natural smell strange taste high fructose corn syrup honey meets description wonder cheap \n",
      "Original summary: honey \n",
      "Predicted summary:  not that great\n",
      "\n",
      "\n",
      "Review: bold rich love coffee fast wake morning pick mid day name perfectly suited delightful brew must store airtight container opening plastic bags though coffee lose potency \n",
      "Original summary: coffee \n",
      "Predicted summary:  great coffee\n",
      "\n",
      "\n",
      "Review: husband celiac tied several bread mixes best one found freezes well best taste use bread machine \n",
      "Original summary: good bread mix \n",
      "Predicted summary:  best bread mix\n",
      "\n",
      "\n",
      "Review: like tea fruity even expected almost berry like taste take time regret bought tea good one around \n",
      "Original summary: very fruity \n",
      "Predicted summary:  great tea\n",
      "\n",
      "\n",
      "Review: great idea disappointing quality markers dried difficult use pens would write paper clearly would act dry rolled fondant seller great shipped early enough time opt plan \n",
      "Original summary: poor quality \n",
      "Predicted summary:  not what expected\n",
      "\n",
      "\n",
      "Review: husband love good pasta great tasting try pasta pesto surprise taste inside enjoyed much \n",
      "Original summary: love this pasta \n",
      "Predicted summary:  great pasta\n",
      "\n",
      "\n",
      "Review: tried every local edible writing markers none number colors worked well order online get well worth great cake pops \n",
      "Original summary: great product \n",
      "Predicted summary:  great product\n",
      "\n",
      "\n",
      "Review: great easy fix soup add ham onions barley cut sodium abit add extra cups water seems trick enjoy \n",
      "Original summary: umm umm good \n",
      "Predicted summary:  great soup\n",
      "\n",
      "\n",
      "Review: chile good green chile flavor heat use kick super hot powder got trick \n",
      "Original summary: good flavor \n",
      "Predicted summary:  good stuff\n",
      "\n",
      "\n",
      "Review: bought present wife loves seemed like better option salt samplers super small amounts enough salts hundreds dishes \n",
      "Original summary: love it \n",
      "Predicted summary:  great\n",
      "\n",
      "\n",
      "Review: always made pancake waffle mix pre made stuff tried mix one person really liked heavy cornmeal taste back recipe \n",
      "Original summary: does not our taste \n",
      "Predicted summary:  great pancakes\n",
      "\n",
      "\n",
      "Review: contrary previously purchased twix size package ordered shipped together fresh tasting great cup coffee good value money \n",
      "Original summary: kit kat candy bar ct \n",
      "Predicted summary:  great product\n",
      "\n",
      "\n",
      "Review: love tea vanilla flavors favorite type tea one favorite vanilla caramel flavors blend really well \n",
      "Original summary: great tasting dessert tea \n",
      "Predicted summary:  great tea\n",
      "\n",
      "\n",
      "Review: wish noticed list ingredients purchased product cheese read ingredients msg bad ingredients besides cheese yuck throw taste great either \n",
      "Original summary: not that great \n",
      "Predicted summary:  stale\n",
      "\n",
      "\n",
      "Review: wow amazingly tasty addictive even wish easier find \n",
      "Original summary: so tasty \n",
      "Predicted summary:  yummy\n",
      "\n",
      "\n",
      "Review: chose product great reviews good ok \n",
      "Original summary: it is just ok \n",
      "Predicted summary:  great taste\n",
      "\n",
      "\n",
      "Review: favorite side dish kids easy prepare makes great filling stuffed peppers \n",
      "Original summary: the kids love this \n",
      "Predicted summary:  great\n",
      "\n",
      "\n",
      "Review: family love rice every time served company want know kind rice make chicken broth rather water enhance flavor \n",
      "Original summary: royal blend rice \n",
      "Predicted summary:  rice\n",
      "\n",
      "\n",
      "Review: great calories however kinda pricey noodles buy size get better deal online asian stores edit go local asian grocery store super cheap per bag \n",
      "Original summary: great product but kind of pricey \n",
      "Predicted summary:  great product\n",
      "\n",
      "\n",
      "Review: simple cook nice cheesy kids enjoyed change plain old macaroni cheese like add veggies \n",
      "Original summary: cheesy good \n",
      "Predicted summary:  great product\n",
      "\n",
      "\n",
      "Review: happy quality peppercorns good buy much better get co op \n",
      "Original summary: great price and service \n",
      "Predicted summary:  great product\n",
      "\n",
      "\n",
      "Review: tender light popcorn use back stainless steel stove top popcorn popper \n",
      "Original summary: fresh and light popcorn \n",
      "Predicted summary:  great popcorn\n",
      "\n",
      "\n",
      "Review: nice tree smaller thought probably read see size buying gift dad loved \n",
      "Original summary: great little tree \n",
      "Predicted summary:  great product\n",
      "\n",
      "\n",
      "Review: favorite tea regular green tea tastes little bitter addition brown rice gives tea nice smokey flavor winter drink least two cups day cannot get enough \n",
      "Original summary: yummy \n",
      "Predicted summary:  great tea\n",
      "\n",
      "\n",
      "Review: yeah alright usual standard rice crackers peas peanuts wasabi sesame sticks quality fine hoping little variety costco seems stopped carrying oriental mix looking replacement product though \n",
      "Original summary: it is ok \n",
      "Predicted summary:  not for kids\n",
      "\n",
      "\n",
      "Review: cups sweetened sucralose realize tried one ended little bit headache made check ingredient list noted front box definitely artificial taste would buy \n",
      "Original summary: artificial taste \n",
      "Predicted summary:  not that great\n",
      "\n",
      "\n",
      "Review: cooks microwave fast really good right cook unfortunately msg nonetheless fat sodium content bad compared regular pork rinds photo nutrition facts see ingredients \n",
      "Original summary: so tasty but has msg \n",
      "Predicted summary:  not as good as the picture\n",
      "\n",
      "\n",
      "Review: seeds grow easy one seed pack grew little pots would grow using seeds every days separate little pots cats never without great buy \n",
      "Original summary: they grow easy \n",
      "Predicted summary:  great product\n",
      "\n",
      "\n",
      "Review: love product works well keeping hydrated training runs stomach count help things little hydrate even attest treating hangover highly recommend quick shipping good price vendor \n",
      "Original summary: this stuff rocks \n",
      "Predicted summary:  great product\n",
      "\n",
      "\n",
      "Review: fabulous little red pearls even better craisins plump juicy perfect banana bread semi tart cherry flavor body taste buy great surprise \n",
      "Original summary: yum \n",
      "Predicted summary:  pamela bread mix\n",
      "\n",
      "\n",
      "Review: use love getting gum kid loved colors shape diffrent normal bubble gum piece dont long flavor lasted really tasty \n",
      "Original summary: amazing gum \n",
      "Predicted summary:  not the best\n",
      "\n",
      "\n",
      "Review: coffee awesome like bold stout coffee disappoint smells great like weak mild coffee may \n",
      "Original summary: awesome \n",
      "Predicted summary:  great coffee\n",
      "\n",
      "\n",
      "Review: poured great wine type yeast used make sweet red alcohol content produced around much little great product \n",
      "Original summary: made some great wine \n",
      "Predicted summary:  good product\n",
      "\n",
      "\n",
      "Review: noodles low carb taste great arrived un crushed concern buying amazon \n",
      "Original summary: great buy \n",
      "Predicted summary:  great product\n",
      "\n",
      "\n",
      "Review: received fast hot chocolate yummy put couple marshmallows top feel warm cozy satisfied \n",
      "Original summary: delicious \n",
      "Predicted summary:  great hot chocolate\n",
      "\n",
      "\n",
      "Review: dogswell happy hips dogs chicken breast ounce pouches dogswell chicken jerky made china fda warned dog food products made china risk \n",
      "Original summary: dogswell is now made in china \n",
      "Predicted summary:  not for dogs\n",
      "\n",
      "\n",
      "Review: kids eat quickly pack bunnies instead chips lunch without complaints kids \n",
      "Original summary: kids like them \n",
      "Predicted summary:  great snack\n",
      "\n",
      "\n",
      "Review: bought gum third grade students wrote blow bubble chewing sugarless bubble yum loved taste gum flavor good \n",
      "Original summary: great flavored gum \n",
      "Predicted summary:  great gum\n",
      "\n",
      "\n",
      "Review: favorite chocolate treats especially good designed flamingo great tasting fun packaging made nice gift caring neighbors \n",
      "Original summary: good eats \n",
      "Predicted summary:  great cookies\n",
      "\n",
      "\n",
      "Review: ordering oil quite time still think best evoo ever tasted fruity aftertaste delicious front tounge well sticking oil long get \n",
      "Original summary: great \n",
      "Predicted summary:  great product\n",
      "\n",
      "\n",
      "Review: bars really best bars beat combination mangos plus macadamias plus coconut cannot sweet like product \n",
      "Original summary: warning so good you will get fat \n",
      "Predicted summary:  great bars\n",
      "\n",
      "\n",
      "Review: husband gluten intolerant love rice noodles substitute hold well boiling used everything spaghetti fettucini stir fry even kids love \n",
      "Original summary: multi purpose noodles \n",
      "Predicted summary:  great gluten free pasta\n",
      "\n",
      "\n",
      "Review: ah dubble bubble starts really hard flavor last long blow amazing bubbles great bucket get stuffing keep around sure delight kids nostalgic adults \n",
      "Original summary: just like remember \n",
      "Predicted summary:  great tasting snack\n",
      "\n",
      "\n",
      "Review: use clean veggies especially fresh basil leaves basil fragile leaves turn dark quickly washed using citric acid change color freshness know really working \n",
      "Original summary: very good \n",
      "Predicted summary:  great taste\n",
      "\n",
      "\n",
      "Review: bbq sauce absolutely delicious shared friends buying \n",
      "Original summary: delicious dr pepper bbq sauce \n",
      "Predicted summary:  great sauce\n",
      "\n",
      "\n",
      "Review: love easily intense tried current supply runs order \n",
      "Original summary: altoids spearmint mints \n",
      "Predicted summary:  great product\n",
      "\n",
      "\n",
      "Review: product works need instant whether sleep deprived \n",
      "Original summary: wake up \n",
      "Predicted summary:  hour energy\n",
      "\n",
      "\n",
      "Review: right amount oil right amount salt comes convenience simply able beat pack \n",
      "Original summary: right \n",
      "Predicted summary:  great product\n",
      "\n",
      "\n",
      "Review: son like first taste got used loved sure much better others organic label got buy mixed milk fruit great breakfast son looks forward every morning \n",
      "Original summary: awesome deal \n",
      "Predicted summary:  great product\n",
      "\n",
      "\n",
      "Review: kitty went nuts first opened kept running around legs looking source cannot enough em thankfully organic could much wants worry diabetes diarrhea \n",
      "Original summary: went nuts \n",
      "Predicted summary:  my cats love this\n",
      "\n",
      "\n",
      "Review: children sensitivities many food ingredients including cane sugar thrilled find cookie like contain yuck find traditional cookies \n",
      "Original summary: great animal crackers \n",
      "Predicted summary:  great cookies\n",
      "\n",
      "\n",
      "Review: dark chocolate candy covers center blueberry acai peanut butter prominent tasty wish chocolate covering dense gets hands hot weather \n",
      "Original summary: dark chocolate \n",
      "Predicted summary:  dark chocolate\n",
      "\n",
      "\n",
      "Review: would buy chia seeds costco instead pounds use smoothies salads lately mix chocolate almond milk amazing pudding hours chilled \n",
      "Original summary: awesome \n",
      "Predicted summary:  delicious\n",
      "\n",
      "\n",
      "Review: love snacks grandpa po originals great snack satisfy hunger craving crunchy great flavor hard stop eating whole bag one sitting \n",
      "Original summary: love snacks \n",
      "Predicted summary:  great snack\n",
      "\n",
      "\n",
      "Review: wonderful flavor full easily vitamins minerals son allergic dairy except ghee well product organic grass fed wish could buy locally cut packaging though \n",
      "Original summary: great product that wish could buy locally \n",
      "Predicted summary:  great product\n",
      "\n",
      "\n",
      "Review: hawaiian shaved ice snow cone syrups flavor pack great business courteous super fast response buy \n",
      "Original summary: hawaiian ice cone syrups flavor pack \n",
      "Predicted summary:  great product\n",
      "\n",
      "\n",
      "Review: great service fast ordered item tasted great fresh trouble shipping fault extremely helpful pleasure deal \n",
      "Original summary: wonderful service great \n",
      "Predicted summary:  great product\n",
      "\n",
      "\n",
      "Review: expensive worth buying much next opportunity buy unfortunately brazil bought excellent buttery impossible eat one box satisfied want walkers shortbread assorted boxes \n",
      "Original summary: bought very little but prices are not good \n",
      "Predicted summary:  not as good as expected\n",
      "\n",
      "\n",
      "Review: like lot great taste sweet perfect way start day \n",
      "Original summary: good stuff \n",
      "Predicted summary:  great taste\n",
      "\n",
      "\n",
      "Review: chocolates best unfortunately easy find us european product fresh tasted amazing \n",
      "Original summary: delish \n",
      "Predicted summary:  best ever\n",
      "\n",
      "\n",
      "Review: enough english language describe good mom loves coconut made th birthday loved love love cupcake going try coconut cake next time \n",
      "Original summary: eating one right now \n",
      "Predicted summary:  great gift\n",
      "\n",
      "\n",
      "Review: like flavor much cheaper pay work really like convenience case \n",
      "Original summary: yummy \n",
      "Predicted summary:  good but not great\n",
      "\n",
      "\n"
     ]
    }
   ],
   "source": [
    "for i in range(0,100):\n",
    "    print(\"Review:\",seq2text(x_tr[i]))\n",
    "    print(\"Original summary:\",seq2summary(y_tr[i]))\n",
    "    print(\"Predicted summary:\",decode_sequence(x_tr[i].reshape(1,max_text_len)))\n",
    "    print(\"\\n\")"
   ]
  },
  {
   "cell_type": "markdown",
   "metadata": {
    "colab_type": "text",
    "id": "OTkaYNjHW4lC"
   },
   "source": [
    "This is really cool stuff. Even though the actual summary and the summary generated by our model do not match in terms of words, both of them are conveying the same meaning. Our model is able to generate a legible summary based on the context present in the text.\n",
    "\n",
    "This is how we can perform text summarization using deep learning concepts in Python.\n",
    "\n",
    "#How can we Improve the Model’s Performance Even Further?\n",
    "\n",
    "Your learning doesn’t stop here! There’s a lot more you can do to play around and experiment with the model:\n",
    "\n",
    "I recommend you to **increase the training dataset** size and build the model. The generalization capability of a deep learning model enhances with an increase in the training dataset size\n",
    "\n",
    "Try implementing **Bi-Directional LSTM** which is capable of capturing the context from both the directions and results in a better context vector\n",
    "\n",
    "Use the **beam search strategy** for decoding the test sequence instead of using the greedy approach (argmax)\n",
    "\n",
    "Evaluate the performance of your model based on the **BLEU score**\n",
    "\n",
    "Implement **pointer-generator networks** and **coverage mechanisms**\n",
    " \n",
    "\n"
   ]
  },
  {
   "cell_type": "markdown",
   "metadata": {
    "colab_type": "text",
    "id": "R_qIecuvY5GT"
   },
   "source": [
    "#End Notes\n",
    "\n",
    "If you have any feedback on this article or any doubts/queries, kindly share them in the comments section over [here](https://www.analyticsvidhya.com/blog/2019/06/comprehensive-guide-text-summarization-using-deep-learning-python/) and I will get back to you. And make sure you experiment with the model we built here and share your results with me!"
   ]
  }
 ],
 "metadata": {
  "colab": {
   "collapsed_sections": [],
   "name": "How to build own text summarizer using deep learning.ipynb",
   "provenance": [],
   "version": "0.3.2"
  },
  "kernelspec": {
   "display_name": "Python [conda env:TXTSUMG] *",
   "language": "python",
   "name": "conda-env-TXTSUMG-py"
  },
  "language_info": {
   "codemirror_mode": {
    "name": "ipython",
    "version": 3
   },
   "file_extension": ".py",
   "mimetype": "text/x-python",
   "name": "python",
   "nbconvert_exporter": "python",
   "pygments_lexer": "ipython3",
   "version": "3.6.10"
  }
 },
 "nbformat": 4,
 "nbformat_minor": 4
}
